{
 "cells": [
  {
   "cell_type": "code",
   "execution_count": 1,
   "id": "0b07548c-247d-4382-98bd-2f055ccf4052",
   "metadata": {},
   "outputs": [],
   "source": [
    "# ------------------------------------------------\n",
    "# dataset_extract.ipynb\n",
    "# shubha07m\n",
    "# 2024-02-05\n",
    "# dataset_extract file contains \"inputs_to_dataset\" (uses only numpy) and \n",
    "# \"inputs_to_dataset_pf\" (uses numpy and patchify package) function to\n",
    "# generate patches of image and masks\n",
    "# ------------------------------------------------"
   ]
  },
  {
   "cell_type": "markdown",
   "id": "6c06ebca-f783-4ec3-afaa-cc70524218fe",
   "metadata": {},
   "source": [
    "## Functions for custom patches generation from provided image and mask ##"
   ]
  },
  {
   "cell_type": "code",
   "execution_count": 2,
   "id": "26fb4eca-dd57-4c20-a3bf-ba0c0adbdfb3",
   "metadata": {},
   "outputs": [],
   "source": [
    "# Importing the required library #\n",
    "\n",
    "import numpy as np\n",
    "from patchify import patchify"
   ]
  },
  {
   "cell_type": "markdown",
   "id": "54dcbff6-0684-4ad6-a8aa-fcfeee097bf7",
   "metadata": {},
   "source": [
    "### Patches generation function without patchify package ###"
   ]
  },
  {
   "cell_type": "code",
   "execution_count": 3,
   "id": "f6072c3f-1d87-45b3-8b2e-5c51f1a02e7c",
   "metadata": {},
   "outputs": [],
   "source": [
    "def inputs_to_dataset(image, mask, patch_size, stride_length):\n",
    "    \"\"\"\n",
    "    Generates image and mask patches for dataset creation.\n",
    "\n",
    "    Args:\n",
    "        image: The input image as a NumPy array.\n",
    "        mask: The corresponding mask as a NumPy array.\n",
    "        patch_size: The size of the patches to extract.\n",
    "        stride_length: The stride length between patches.\n",
    "\n",
    "    Returns:\n",
    "        A tuple containing two NumPy arrays:\n",
    "            - image_patches: A 4D array of image patches.\n",
    "            - mask_patches: A 3D array of corresponding mask patches.\n",
    "    \"\"\"\n",
    "\n",
    "    # Error message for wrong patch size\n",
    "    if patch_size >= image.shape[0] or patch_size >= image.shape[1]:\n",
    "        raise ValueError(\"Given patch size is greater than or equal to the image height or width\")\n",
    "\n",
    "    # Error message for wrong stride length\n",
    "    if stride_length >= image.shape[0] or stride_length >= image.shape[1]:\n",
    "        raise ValueError(\"Given stride length is greater than or equal to the image height or width\")\n",
    "\n",
    "    # Error message for invalid patch size or stride length\n",
    "    if patch_size <= 0 or stride_length <= 0:\n",
    "        raise ValueError(\"Patch size and stride length must be positive integers.\")\n",
    "\n",
    "\n",
    "    # Error message for mask size greater than image size\n",
    "    if image.shape[0] < mask.shape[0] or image.shape[1] < mask.shape[1]:\n",
    "        raise ValueError(\"Given mask size is greater than image size\")\n",
    "\n",
    "\n",
    "    # Generate image and mask patches\n",
    "    image_patch_shape = patch_size, patch_size, image.shape[2]  # Shape of each image patch\n",
    "    mask_patch_shape = patch_size, patch_size  # Shape of each mask patch\n",
    "\n",
    "    # Initializing empty lists for storing patches #\n",
    "    filtered_image_patches = []\n",
    "    filtered_mask_patches = []\n",
    "    \n",
    "    # Iterating through image and mask and storing patches in lists\n",
    "    for i in range(0,image.shape[0]-1,stride_length):\n",
    "        for j in range(0,image.shape[1]-1,stride_length):\n",
    "            img_patch = image[i:patch_size+i,j:patch_size+j]\n",
    "            mask_patch = mask[i:patch_size+i,j:patch_size+j]\n",
    "\n",
    "            # Filter patches based on condition (exclude those with -1 values)\n",
    "            if -1 not in img_patch:\n",
    "                filtered_image_patches.append(img_patch)\n",
    "                filtered_mask_patches.append(mask_patch)\n",
    "\n",
    "    # Return image patches as a 4D array and mask patches as a 3D array\n",
    "    return np.array(filtered_image_patches), np.array(filtered_mask_patches)"
   ]
  },
  {
   "cell_type": "markdown",
   "id": "83fb5b2d-f935-46d5-8d03-1822fe7d7959",
   "metadata": {},
   "source": [
    "### Patches generation function with patchify package ###"
   ]
  },
  {
   "cell_type": "code",
   "execution_count": 4,
   "id": "99441889-d718-4c6c-89b7-e12cad89f6ef",
   "metadata": {},
   "outputs": [],
   "source": [
    "def inputs_to_dataset_pf(image, mask, patch_size, stride_length):\n",
    "    \"\"\"\n",
    "    Generates image and mask patches for dataset creation.\n",
    "\n",
    "    Args:\n",
    "        image: The input image as a NumPy array.\n",
    "        mask: The corresponding mask as a NumPy array.\n",
    "        patch_size: The size of the patches to extract.\n",
    "        stride_length: The stride length between patches.\n",
    "\n",
    "    Returns:\n",
    "        A tuple containing two NumPy arrays:\n",
    "            - image_patches: A 4D array of image patches.\n",
    "            - mask_patches: A 3D array of corresponding mask patches.\n",
    "    \"\"\"\n",
    "\n",
    "    # Error message for wrong patch size\n",
    "    if patch_size >= image.shape[0] or patch_size >= image.shape[1]:\n",
    "        raise ValueError(\"Given patch size is greater than or equal to the image height or width\")\n",
    "\n",
    "    # Error message for wrong stride length\n",
    "    if stride_length >= image.shape[0] or stride_length >= image.shape[1]:\n",
    "        raise ValueError(\"Given stride length is greater than or equal to the image height or width\")\n",
    "\n",
    "    # Error message for invalid patch size or stride length\n",
    "    if patch_size <= 0 or stride_length <= 0:\n",
    "        raise ValueError(\"Patch size and stride length must be positive integers.\")\n",
    "\n",
    "    # Error message for mask size greater than image size\n",
    "    if image.shape[0] < mask.shape[0] or image.shape[1] < mask.shape[1]:\n",
    "        raise ValueError(\"Given mask size is greater than image size\")\n",
    "\n",
    "    image_patch_shape = patch_size, patch_size, image.shape[2]  # Shape of each image patch\n",
    "    mask_patch_shape = patch_size, patch_size  # Shape of each mask patch\n",
    "\n",
    "    # Generate image and mask patches using the patchify function\n",
    "\n",
    "    try:\n",
    "        image_patches = patchify(image, image_patch_shape, step=stride_length)\n",
    "        mask_patches = patchify(mask, mask_patch_shape, step=stride_length)\n",
    "\n",
    "    except Exception as e:\n",
    "        raise ValueError(\"Error while using patchify function\", e) from e\n",
    "\n",
    "    # Reducing the dimension of generated patches from 6 to 4 #\n",
    "    image_patches = image_patches.reshape(-1, image_patch_shape[0], image_patch_shape[1], image_patch_shape[2])\n",
    "\n",
    "    # Reducing the dimension of generated patches from 4 to 3 #\n",
    "    mask_patches = mask_patches.reshape(-1, mask_patch_shape[0], mask_patch_shape[1])\n",
    "\n",
    "    # Initializing empty lists for storing patches #\n",
    "    filtered_image_patches = []\n",
    "    filtered_mask_patches = []\n",
    "\n",
    "    # Iterating through image and mask patches and storing in arrays\n",
    "    for img_patch, mask_patch in zip(image_patches, mask_patches):\n",
    "        # Filter patches based on condition (exclude those with -1 values)\n",
    "        if -1 not in img_patch:\n",
    "            filtered_image_patches.append(img_patch)\n",
    "            filtered_mask_patches.append(mask_patch)\n",
    "\n",
    "    # Return image patches as a 4D array and mask patches as a 3D array\n",
    "    return np.array(filtered_image_patches), np.array(filtered_mask_patches)\n"
   ]
  },
  {
   "cell_type": "code",
   "execution_count": 5,
   "id": "0c56fe04-b8fd-4ee4-9d3b-dd45f347d86a",
   "metadata": {},
   "outputs": [
    {
     "name": "stdout",
     "output_type": "stream",
     "text": [
      "[NbConvertApp] Converting notebook dataset_extract.ipynb to script\n",
      "[NbConvertApp] Writing 6022 bytes to dataset_extract.py\n"
     ]
    }
   ],
   "source": [
    "# !jupyter nbconvert --to script dataset_extract.ipynb"
   ]
  }
 ],
 "metadata": {
  "kernelspec": {
   "display_name": "understory",
   "language": "python",
   "name": "understory"
  },
  "language_info": {
   "codemirror_mode": {
    "name": "ipython",
    "version": 3
   },
   "file_extension": ".py",
   "mimetype": "text/x-python",
   "name": "python",
   "nbconvert_exporter": "python",
   "pygments_lexer": "ipython3",
   "version": "3.8.18"
  }
 },
 "nbformat": 4,
 "nbformat_minor": 5
}
