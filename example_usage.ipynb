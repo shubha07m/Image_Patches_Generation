{
 "cells": [
  {
   "cell_type": "code",
   "execution_count": 1,
   "id": "ed2a09b0-59ee-48a0-8a32-5ef87a96e897",
   "metadata": {},
   "outputs": [],
   "source": [
    "# ------------------------------------------------\n",
    "# example_usage.ipynb\n",
    "# shubha07m\n",
    "# 2024-02-05\n",
    "# example_usage file shows example of using inputs_to_dataset \n",
    "# and inputs_to_dataset_pf functions to generate patches\n",
    "# ------------------------------------------------"
   ]
  },
  {
   "cell_type": "code",
   "execution_count": 2,
   "id": "d039fa70-7054-43b7-8ac0-01872bc9e59d",
   "metadata": {},
   "outputs": [
    {
     "name": "stdout",
     "output_type": "stream",
     "text": [
      "[NbConvertApp] Converting notebook dataset_extract.ipynb to script\n",
      "[NbConvertApp] Writing 6001 bytes to dataset_extract.py\n"
     ]
    }
   ],
   "source": [
    "# Importing the required library #\n",
    "from dataset_extract import inputs_to_dataset, inputs_to_dataset_pf \n",
    "import numpy as np"
   ]
  },
  {
   "cell_type": "code",
   "execution_count": 3,
   "id": "dcf7c545-0aba-4af9-a02a-ee3eaba54bda",
   "metadata": {},
   "outputs": [],
   "source": [
    "# Defining the input image, mask, and other parameters#\n",
    "\n",
    "image = np.array([[[ 1,  2,  3],[ 4,  5,  6], [ -1, 8,  9]],\n",
    "                 [[ 10,  11,  12], [ 13,  14,  15], [ 16,  17,  18]],\n",
    "                 [[ 19,  20,  21], [ 22,  23,  24],[25,  26,  27]]])\n",
    "\n",
    "mask = np.array(\n",
    "       [[1, 4, 7],\n",
    "       [10, 4, 16],\n",
    "       [19, 22, 255]])\n",
    "\n",
    "stride_length = 1\n",
    "patch_size = 2"
   ]
  },
  {
   "cell_type": "markdown",
   "id": "e0186aef-2bc3-49db-9d55-f335b26c9385",
   "metadata": {},
   "source": [
    "## Example for showing custom patch generation using inputs_to_dataset: without using patchify ##"
   ]
  },
  {
   "cell_type": "code",
   "execution_count": 4,
   "id": "9d8b2482-d2a0-4b4a-b760-885ae37192c2",
   "metadata": {},
   "outputs": [
    {
     "name": "stdout",
     "output_type": "stream",
     "text": [
      "this is the image:\n",
      "\n",
      "[[[ 1  2  3]\n",
      "  [ 4  5  6]\n",
      "  [-1  8  9]]\n",
      "\n",
      " [[10 11 12]\n",
      "  [13 14 15]\n",
      "  [16 17 18]]\n",
      "\n",
      " [[19 20 21]\n",
      "  [22 23 24]\n",
      "  [25 26 27]]]\n",
      "\n",
      "\n",
      "this is the image patch:\n",
      "\n",
      "[[[[ 1  2  3]\n",
      "   [ 4  5  6]]\n",
      "\n",
      "  [[10 11 12]\n",
      "   [13 14 15]]]\n",
      "\n",
      "\n",
      " [[[10 11 12]\n",
      "   [13 14 15]]\n",
      "\n",
      "  [[19 20 21]\n",
      "   [22 23 24]]]\n",
      "\n",
      "\n",
      " [[[13 14 15]\n",
      "   [16 17 18]]\n",
      "\n",
      "  [[22 23 24]\n",
      "   [25 26 27]]]]\n",
      "\n",
      "\n",
      "this is the mask:\n",
      "\n",
      "[[  1   4   7]\n",
      " [ 10   4  16]\n",
      " [ 19  22 255]]\n",
      "\n",
      "\n",
      "this is the mask patch:\n",
      "\n",
      "[[[  1   4]\n",
      "  [ 10   4]]\n",
      "\n",
      " [[ 10   4]\n",
      "  [ 19  22]]\n",
      "\n",
      " [[  4  16]\n",
      "  [ 22 255]]]\n"
     ]
    }
   ],
   "source": [
    "print(\"this is the image:\\n\")\n",
    "print(image)\n",
    "print(\"\\n\")\n",
    "print(\"this is the image patch:\\n\")\n",
    "print(inputs_to_dataset(image, mask, patch_size,stride_length)[0])\n",
    "print(\"\\n\")\n",
    "print(\"this is the mask:\\n\")\n",
    "print(mask)\n",
    "print(\"\\n\")\n",
    "print(\"this is the mask patch:\\n\")\n",
    "print(inputs_to_dataset(image, mask, patch_size,stride_length)[1])"
   ]
  },
  {
   "cell_type": "markdown",
   "id": "971a1023-6e76-4276-a473-5f3f9ab16923",
   "metadata": {},
   "source": [
    "## Example for showing custom patch generation using inputs_to_dataset: using patchify package ##"
   ]
  },
  {
   "cell_type": "code",
   "execution_count": 5,
   "id": "8d1649e0-f96c-4530-9a2f-71ad6d561a8d",
   "metadata": {},
   "outputs": [
    {
     "name": "stdout",
     "output_type": "stream",
     "text": [
      "this is the image:\n",
      "\n",
      "[[[ 1  2  3]\n",
      "  [ 4  5  6]\n",
      "  [-1  8  9]]\n",
      "\n",
      " [[10 11 12]\n",
      "  [13 14 15]\n",
      "  [16 17 18]]\n",
      "\n",
      " [[19 20 21]\n",
      "  [22 23 24]\n",
      "  [25 26 27]]]\n",
      "\n",
      "\n",
      "this is the image patch:\n",
      "\n",
      "[[[[ 1  2  3]\n",
      "   [ 4  5  6]]\n",
      "\n",
      "  [[10 11 12]\n",
      "   [13 14 15]]]\n",
      "\n",
      "\n",
      " [[[10 11 12]\n",
      "   [13 14 15]]\n",
      "\n",
      "  [[19 20 21]\n",
      "   [22 23 24]]]\n",
      "\n",
      "\n",
      " [[[13 14 15]\n",
      "   [16 17 18]]\n",
      "\n",
      "  [[22 23 24]\n",
      "   [25 26 27]]]]\n",
      "\n",
      "\n",
      "this is the mask:\n",
      "\n",
      "[[  1   4   7]\n",
      " [ 10   4  16]\n",
      " [ 19  22 255]]\n",
      "\n",
      "\n",
      "this is the mask patch:\n",
      "\n",
      "[[[  1   4]\n",
      "  [ 10   4]]\n",
      "\n",
      " [[ 10   4]\n",
      "  [ 19  22]]\n",
      "\n",
      " [[  4  16]\n",
      "  [ 22 255]]]\n"
     ]
    }
   ],
   "source": [
    "print(\"this is the image:\\n\")\n",
    "print(image)\n",
    "print(\"\\n\")\n",
    "print(\"this is the image patch:\\n\")\n",
    "print(inputs_to_dataset_pf(image, mask, patch_size,stride_length)[0])\n",
    "print(\"\\n\")\n",
    "print(\"this is the mask:\\n\")\n",
    "print(mask)\n",
    "print(\"\\n\")\n",
    "print(\"this is the mask patch:\\n\")\n",
    "print(inputs_to_dataset_pf(image, mask, patch_size,stride_length)[1])"
   ]
  }
 ],
 "metadata": {
  "kernelspec": {
   "display_name": "understory",
   "language": "python",
   "name": "understory"
  },
  "language_info": {
   "codemirror_mode": {
    "name": "ipython",
    "version": 3
   },
   "file_extension": ".py",
   "mimetype": "text/x-python",
   "name": "python",
   "nbconvert_exporter": "python",
   "pygments_lexer": "ipython3",
   "version": "3.8.18"
  }
 },
 "nbformat": 4,
 "nbformat_minor": 5
}
